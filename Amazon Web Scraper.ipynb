{
 "cells": [
  {
   "cell_type": "code",
   "execution_count": 1,
   "id": "dadc2b81",
   "metadata": {},
   "outputs": [],
   "source": [
    "# Import Libraries\n",
    "\n",
    "from bs4 import BeautifulSoup\n",
    "import requests\n",
    "import smtplib\n",
    "import time\n",
    "import datetime"
   ]
  },
  {
   "cell_type": "code",
   "execution_count": 2,
   "id": "e9de86ab",
   "metadata": {},
   "outputs": [
    {
     "name": "stdout",
     "output_type": "stream",
     "text": [
      "\n",
      "            Dell New Alienware x15 R2 Gaming Laptop, Intel i9-12900H, Win11+MSO'21 , 32GB LP DDR5, 1TB SSD, NVIDIA RTX 3080 Ti (16GB GDDR6), 15.6\" (39.62Cms) FHD 360Hz 300nits, AlienFX KB (D569942WIN9, 2.34Kgs)\n",
      "           \n",
      "\n",
      "                                3,55,490\n",
      "                                \n",
      "                                 .\n",
      "                                \n",
      "\n"
     ]
    }
   ],
   "source": [
    "#Connect to Website\n",
    "\n",
    "URL = 'https://www.amazon.in/Dell-Alienware-i9-12900H-39-62Cms-D569942WIN9/dp/B09TP13BDV/ref=sr_1_2?crid=E7F1V8U1BWMN&keywords=dell+alienware+x17+r2&qid=1673090991&sprefix=dell+alienware%2Caps%2C229&sr=8-2'\n",
    "\n",
    "headers = {\"User-Agent\": \"Mozilla/5.0 (Windows NT 10.0; Win64; x64) AppleWebKit/537.36 (KHTML, like Gecko) Chrome/107.0.0.0 Safari/537.36 OPR/93.0.0.0 (Edition std-1)\"}\n",
    "\n",
    "page = requests.get(URL, headers = headers)\n",
    "\n",
    "soup1 = BeautifulSoup(page.content, \"html.parser\")\n",
    "\n",
    "soup2 = BeautifulSoup(soup1.prettify(), \"html.parser\")\n",
    "\n",
    "title = soup2.find(id = 'productTitle').get_text()\n",
    "price = soup2.find(\"span\", {\"class\" : \"a-price-whole\"}).get_text()\n",
    "\n",
    "\n",
    "print(title)\n",
    "print(price)"
   ]
  },
  {
   "cell_type": "code",
   "execution_count": 3,
   "id": "be3ee1e0",
   "metadata": {},
   "outputs": [
    {
     "name": "stdout",
     "output_type": "stream",
     "text": [
      "Dell New Alienware x15 R2 Gaming Laptop, Intel i9-12900H, Win11+MSO'21 , 32GB LP DDR5, 1TB SSD, NVIDIA RTX 3080 Ti (16GB GDDR6), 15.6\" (39.62Cms) FHD 360Hz 300nits, AlienFX KB (D569942WIN9, 2.34Kgs)\n",
      "3,55,490\n"
     ]
    }
   ],
   "source": [
    "#Clean Up The Data\n",
    "\n",
    "price = price.strip()[0:8]\n",
    "title = title.strip()\n",
    "\n",
    "print(title)\n",
    "print(price)"
   ]
  },
  {
   "cell_type": "code",
   "execution_count": 4,
   "id": "a61852ec",
   "metadata": {},
   "outputs": [
    {
     "name": "stdout",
     "output_type": "stream",
     "text": [
      "2023-01-07\n"
     ]
    }
   ],
   "source": [
    "#Creating A TimeStamp for the output to keep a track of when data was collected\n",
    "\n",
    "import datetime\n",
    "\n",
    "today = datetime.date.today()\n",
    "\n",
    "print(today)"
   ]
  },
  {
   "cell_type": "code",
   "execution_count": 5,
   "id": "431ac41e",
   "metadata": {},
   "outputs": [],
   "source": [
    "import csv\n",
    "\n",
    "header = ['Title', 'Price', 'Date']\n",
    "data = [title, price, today]\n",
    "\n",
    "with open('AmazonWebScraperDataset.csv', 'w', newline = '', encoding = 'UTF8') as f:\n",
    "    writer = csv.writer(f)\n",
    "    writer.writerow(header)\n",
    "    writer.writerow(data)\n",
    "    "
   ]
  },
  {
   "cell_type": "code",
   "execution_count": 6,
   "id": "913ad2ec",
   "metadata": {},
   "outputs": [
    {
     "name": "stdout",
     "output_type": "stream",
     "text": [
      "                                               Title     Price        Date\n",
      "0  Dell New Alienware x15 R2 Gaming Laptop, Intel...  3,55,490  2023-01-07\n"
     ]
    }
   ],
   "source": [
    "import pandas as pd\n",
    "\n",
    "df = pd.read_csv(r'C:\\Users\\Client\\AmazonWebScraperDataset.csv')\n",
    "\n",
    "print(df)"
   ]
  },
  {
   "cell_type": "code",
   "execution_count": 7,
   "id": "f58bd32c",
   "metadata": {},
   "outputs": [],
   "source": [
    "#Append The Data to CSV\n",
    "\n",
    "with open('AmazonWebScraperDataset.csv', 'a+', newline = '', encoding = 'UTF8') as f:\n",
    "    writer = csv.writer(f)\n",
    "    writer.writerow(data)"
   ]
  },
  {
   "cell_type": "code",
   "execution_count": 8,
   "id": "a9763b8b",
   "metadata": {},
   "outputs": [],
   "source": [
    "#Creating a function to Automate the above process\n",
    "\n",
    "def check_price():\n",
    "    URL = 'https://www.amazon.in/Dell-Alienware-i9-12900H-39-62Cms-D569942WIN9/dp/B09TP13BDV/ref=sr_1_2?crid=E7F1V8U1BWMN&keywords=dell+alienware+x17+r2&qid=1673090991&sprefix=dell+alienware%2Caps%2C229&sr=8-2'\n",
    "\n",
    "    headers = {\"User-Agent\": \"Mozilla/5.0 (Windows NT 10.0; Win64; x64) AppleWebKit/537.36 (KHTML, like Gecko) Chrome/107.0.0.0 Safari/537.36 OPR/93.0.0.0 (Edition std-1)\"}\n",
    "\n",
    "    page = requests.get(URL, headers = headers)\n",
    "\n",
    "    soup1 = BeautifulSoup(page.content, \"html.parser\")\n",
    "\n",
    "    soup2 = BeautifulSoup(soup1.prettify(), \"html.parser\")\n",
    "\n",
    "    title = soup2.find(id = 'productTitle').get_text()\n",
    "\n",
    "    price = soup2.find(\"span\", {\"class\" : \"a-price-whole\"}).get_text()\n",
    "    \n",
    "    price = price.strip()[0:8]\n",
    "\n",
    "    title = title.strip()\n",
    "    \n",
    "    import datetime\n",
    "\n",
    "    today = datetime.date.today()\n",
    "    \n",
    "    import csv\n",
    "\n",
    "    header = ['Title', 'Price', 'Date']\n",
    "\n",
    "    data = [title, price, today]\n",
    "    \n",
    "    with open('AmazonWebScraperDataset.csv', 'a+', newline = '', encoding = 'UTF8') as f:\n",
    "        writer = csv.writer(f)\n",
    "        writer.writerow(data)\n",
    "        \n",
    "    if (price < 250000):\n",
    "        send_mail()"
   ]
  },
  {
   "cell_type": "code",
   "execution_count": null,
   "id": "cb1ecf09",
   "metadata": {},
   "outputs": [],
   "source": [
    "#Running the check_price() function after a specified time interval\n",
    "\n",
    "while(True):\n",
    "    check_price()\n",
    "    time.sleep(86400)"
   ]
  },
  {
   "cell_type": "code",
   "execution_count": 9,
   "id": "488300ea",
   "metadata": {},
   "outputs": [
    {
     "name": "stdout",
     "output_type": "stream",
     "text": [
      "                                               Title     Price        Date\n",
      "0  Dell New Alienware x15 R2 Gaming Laptop, Intel...  3,55,490  2023-01-07\n",
      "1  Dell New Alienware x15 R2 Gaming Laptop, Intel...  3,55,490  2023-01-07\n"
     ]
    }
   ],
   "source": [
    "import pandas as pd\n",
    "\n",
    "df = pd.read_csv(r'C:\\Users\\Client\\AmazonWebScraperDataset.csv')\n",
    "\n",
    "print(df)"
   ]
  },
  {
   "cell_type": "code",
   "execution_count": null,
   "id": "d3441efe",
   "metadata": {},
   "outputs": [],
   "source": [
    "#Send an email when the product is being sold at your desired price\n",
    "\n",
    "def send_mail():\n",
    "    server = smtplib.SMTP_SSL('smtp.gmail.com',465)\n",
    "    server.ehlo()\n",
    "    #server.starttls()\n",
    "    server.ehlo()\n",
    "    server.login('bhavneetbali@gmail.com','xxxxxxxxxxxxxx')\n",
    "    \n",
    "    subject = \"The Laptop you want is on a Big Discount!! Now is your chance to buy!\"\n",
    "    body = \"Bhavneet, This is the moment we have been waiting for. Now is your chance to buy the laptop of your dreams. Don't mess it up! Link here: https://www.amazon.in/Dell-Alienware-i9-12900H-39-62Cms-D569942WIN9/dp/B09TP13BDV/ref=sr_1_2?crid=E7F1V8U1BWMN&keywords=dell+alienware+x17+r2&qid=1673090991&sprefix=dell+alienware%2Caps%2C229&sr=8-2\"\n",
    "   \n",
    "    msg = f\"Subject: {subject}\\n\\n{body}\"\n",
    "    \n",
    "    server.sendmail(\n",
    "        'bhavneetbali@gmail.com',\n",
    "        msg\n",
    "     \n",
    "    )"
   ]
  }
 ],
 "metadata": {
  "kernelspec": {
   "display_name": "Python 3 (ipykernel)",
   "language": "python",
   "name": "python3"
  },
  "language_info": {
   "codemirror_mode": {
    "name": "ipython",
    "version": 3
   },
   "file_extension": ".py",
   "mimetype": "text/x-python",
   "name": "python",
   "nbconvert_exporter": "python",
   "pygments_lexer": "ipython3",
   "version": "3.9.13"
  }
 },
 "nbformat": 4,
 "nbformat_minor": 5
}
